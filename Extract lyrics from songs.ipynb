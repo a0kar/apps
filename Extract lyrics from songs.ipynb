{
 "cells": [
  {
   "cell_type": "code",
   "execution_count": 1,
   "metadata": {},
   "outputs": [],
   "source": [
    "import tkinter as tk\n",
    "from tkinter import messagebox\n",
    "import lyricsgenius"
   ]
  },
  {
   "cell_type": "code",
   "execution_count": 2,
   "metadata": {},
   "outputs": [],
   "source": [
    "def get_lyrics(api_token, artist, song):\n",
    "    genius = lyricsgenius.Genius(api_token)\n",
    "\n",
    "\n",
    "    try:\n",
    "        song_lyrics = genius.search_song(song, artist)\n",
    "\n",
    "        if song_lyrics:\n",
    "            return song_lyrics.lyrics\n",
    "        else:\n",
    "            return \"Lyrics not found.\"\n",
    "    except Exception as e:\n",
    "        return f\"Error: {e}\""
   ]
  },
  {
   "cell_type": "code",
   "execution_count": 3,
   "metadata": {},
   "outputs": [],
   "source": [
    "# Create main window\n",
    "window = tk.Tk()\n",
    "window.title(\"Flood-Lyrics Extractor\")\n",
    "\n",
    "# Set window size and position it in the center of the screen\n",
    "window_width = 500\n",
    "window_height = 600\n",
    "screen_width = window.winfo_screenwidth()\n",
    "screen_height = window.winfo_screenheight()\n",
    "x_position = (screen_width - window_width) // 2\n",
    "y_position = (screen_height - window_height) // 2\n",
    "window.geometry(f\"{window_width}x{window_height}+{x_position}+{y_position}\")\n",
    "\n",
    "# Set window background color to the baby pink\n",
    "window.configure(bg=\"#FFC0CB\") # Hex color for baby pink"
   ]
  },
  {
   "cell_type": "code",
   "execution_count": null,
   "metadata": {},
   "outputs": [],
   "source": [
    "# Create and place widgets\n",
    "tk.Label(window, text=\"Artist:\").grid(row=0, column=0, padx=10, pady=10, sticky=tk.W)\n",
    "tk.Label(window, text=\"Song:\").grid(row=1, column=0, padx=10, pady=10, sticky=tk.W)\n",
    "\n",
    "artist_entry = tk.Entry(window)\n",
    "song_entry = tk.Entry(window)\n",
    "artist_entry.grid(row=0, column=1, padx=10, pady=10)\n",
    "song_entry.grid(row=1, column=1, padx=10, pady=10)\n",
    "\n",
    "# Set button color to blue\n",
    "extract_button = tk.Button(window, text=\"Extract Lyrics\", command=extract_lyrics, bg=\"#0000FFF\", fg=\"white\")\n",
    "extract_button.grid(row=2, column=0, columnspan=2, pady=10)"
   ]
  },
  {
   "cell_type": "code",
   "execution_count": null,
   "metadata": {},
   "outputs": [],
   "source": [
    "def extract_lyrics():\n",
    "    api_token = \"https://genius.com/\"  # Replace with your Genius API token\n",
    "    artist = artist_entry.get()\n",
    "    song = song_entry.get()\n",
    "\n",
    "\n",
    "    if not api_token or not artist or not song:\n",
    "        messagebox.showinfo(\"Error\", \"https://genius.com/, artist, and song.\")\n",
    "        return\n",
    "    \n",
    "    lyrics = get_lyrics(api_token, artist, song)\n",
    "\n",
    "    result_text.delete(1.0, tk.END)  # Clear previous results\n",
    "    result_text.insert(tk.END, lyrics)"
   ]
  },
  {
   "cell_type": "code",
   "execution_count": null,
   "metadata": {},
   "outputs": [],
   "source": [
    "# Make lyrics box longer in height and center it\n",
    "result_text = tk.Text(window, height=20, width=40)\n",
    "result_text.grid(row=3, column=0, columnspan=2, pady=10, padx=10, sticky=\"nsew\")\n",
    "\n",
    "# Configure row and column weights to center the lyrics box\n",
    "window.grid_rowconfigure(3, weight=1)\n",
    "window.grid_columnfigure(0, weight=1)"
   ]
  },
  {
   "cell_type": "code",
   "execution_count": null,
   "metadata": {},
   "outputs": [],
   "source": [
    "# Start the GUI main loop\n",
    "window.mainloop()"
   ]
  }
 ],
 "metadata": {
  "kernelspec": {
   "display_name": "base",
   "language": "python",
   "name": "python3"
  },
  "language_info": {
   "codemirror_mode": {
    "name": "ipython",
    "version": 3
   },
   "file_extension": ".py",
   "mimetype": "text/x-python",
   "name": "python",
   "nbconvert_exporter": "python",
   "pygments_lexer": "ipython3",
   "version": "3.10.9"
  }
 },
 "nbformat": 4,
 "nbformat_minor": 2
}
