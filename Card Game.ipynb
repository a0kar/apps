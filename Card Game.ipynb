{
 "cells": [
  {
   "cell_type": "code",
   "execution_count": 1,
   "metadata": {},
   "outputs": [],
   "source": [
    "from tkinter import *\n",
    "import random"
   ]
  },
  {
   "cell_type": "code",
   "execution_count": 2,
   "metadata": {},
   "outputs": [],
   "source": [
    "root = Tk()\n",
    "root.title(\"Card Game-PythonFlood\")\n",
    "root.geometry(\"350x320\")\n",
    "root.resizable(False, False)\n",
    "root.config(bg='#E6E6FA')"
   ]
  },
  {
   "cell_type": "code",
   "execution_count": null,
   "metadata": {},
   "outputs": [],
   "source": [
    "lb1 = Label(root, text=\"Player 1 Card\", font=(\"Helvetica\", 15), bg='#E6E6FA')\n",
    "lb1.place(x=30, y=20)\n",
    "lb2 = Label(root, text=\"Player 2 Card\", font=(\"Helvetica\", 15), bg='#E6E6FA')\n",
    "lb2.place(x=30, y=50)\n",
    "\n",
    "lb3 = Label(root, text=f\"Player 1 Deck: {len(player1_deck)} cards\", font=(\"Helvetica\", 15), bg='#E6E6FA')\n",
    "lb3.place(x=70, y=100)\n",
    "\n",
    "lb4 = Label(root, text=f\"Player 2 Deck: {len(player2_deck)} cards\", font=(\"Helvetica\", 15), bg='#E6E6FA')\n",
    "lb4.place(x=70, y=140)\n",
    "\n",
    "result_label = Label(root, text=\"\", font=(\"Helvetica\", 15), bg='#8B8386', fg='White', width=35, justify=CENTER)\n",
    "result_label.place(x=0, y=270)\n",
    "\n",
    "btn = Button(root, text=\"Play Round\", font=(\"Helvetica\", 15), bd=5, bg='#8B8386', fg='White', command=play)\n",
    "btn.place(x=115, y=200)\n",
    "\n",
    "root.mainloop()"
   ]
  },
  {
   "cell_type": "code",
   "execution_count": null,
   "metadata": {},
   "outputs": [],
   "source": [
    "suits = ['Hearts', 'Diamonds', 'Clubs', 'Spades']\n",
    "nums = ['2', '3', '4', '5', '6', '7', '8', '9', '10', 'Jack', 'Queen', 'King', 'Ace']\n",
    "deck = [(rank, suit) for suit in suits for rank in nums]\n",
    "\n",
    "random.shuffle(deck)\n",
    "\n",
    "player1_deck = deck[:26]\n",
    "player2_deck = deck[26:]"
   ]
  },
  {
   "cell_type": "code",
   "execution_count": null,
   "metadata": {},
   "outputs": [],
   "source": [
    "def play():\n",
    "    if len(player1_deck) > 0 and len(player2_deck) > 0:\n",
    "\n",
    "        p1_card = player1_deck.pop(0)\n",
    "        p2_card = player2_deck.pop(0)\n",
    "\n",
    "        lb1.config(text=f\"Player 1 Card: {p1_card[0]} of {p1_card[1]}\")\n",
    "        lb2.config(text=f\"Player 2 Card: {p2_card[0]} of {p2_card[1]}\")\n",
    "\n",
    "        num1 = nums.index(p1_card[0])\n",
    "        num2 = nums.index(p2_card[0])\n",
    "\n",
    "        if num1 > num2:\n",
    "            result_label.config(text=\"Player 1 wins the round!\")\n",
    "            player1_deck.append(p1_card)\n",
    "            player2_deck.append(p2_card)\n",
    "        elif num1 < num2:\n",
    "            result_label.config(text=\"Player 2 wins the round!\")\n",
    "            player2_deck.append(p1_card)\n",
    "            player2_deck.append(p2_card)\n",
    "        else:\n",
    "            result_label.config(text=\"It's a tie!\")\n",
    "\n",
    "        \n",
    "        lb3.config(text=f\"Player 1 Deck: {len(player1_deck)} cards\")\n",
    "        lb4.config(text=f\"Player 2 Deck: {len(player2_deck)} cards\")\n",
    "\n",
    "        if len(player1_deck) == 0 or len(player2_deck) == 0:\n",
    "            if len(player1_deck) > len(player2_deck):\n",
    "                result_label.config(text=\"Player 1 wins the game!\")\n",
    "            elif len(player1_deck) < len(player2_deck):\n",
    "                result_label.config(text=\"Player 2 wins the game!\")\n",
    "            else:\n",
    "                result_label.config(text=\"I'ts a tie!\")"
   ]
  }
 ],
 "metadata": {
  "kernelspec": {
   "display_name": "base",
   "language": "python",
   "name": "python3"
  },
  "language_info": {
   "codemirror_mode": {
    "name": "ipython",
    "version": 3
   },
   "file_extension": ".py",
   "mimetype": "text/x-python",
   "name": "python",
   "nbconvert_exporter": "python",
   "pygments_lexer": "ipython3",
   "version": "3.10.9"
  }
 },
 "nbformat": 4,
 "nbformat_minor": 2
}
