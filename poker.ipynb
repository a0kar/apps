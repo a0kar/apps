{
 "cells": [
  {
   "cell_type": "code",
   "execution_count": 1,
   "metadata": {},
   "outputs": [
    {
     "name": "stdout",
     "output_type": "stream",
     "text": [
      "Hand 1 wins\n"
     ]
    }
   ],
   "source": [
    "from collections import Counter\n",
    "\n",
    "# Function to determine the rank of a hand\n",
    "def hand_rank(hand):\n",
    "    suits = [card[-1] for card in hand]\n",
    "    ranks = sorted([card[:-1] for card in hand], key=lambda x: '23456789TJQKA'.index(x))\n",
    "    \n",
    "    # Check for flush\n",
    "    flush = len(set(suits)) == 1\n",
    "    \n",
    "    # Check for straight\n",
    "    straight = ranks == [ranks[0], chr(ord(ranks[0])+1), chr(ord(ranks[0])+2)]\n",
    "    \n",
    "    # Check for three of a kind, pair\n",
    "    rank_counts = Counter(ranks)\n",
    "    counts = rank_counts.values()\n",
    "    \n",
    "    if flush and straight:\n",
    "        return (6, ranks)  # Straight Flush\n",
    "    elif 3 in counts:\n",
    "        return (5, ranks)  # Three of a Kind\n",
    "    elif straight:\n",
    "        return (4, ranks)  # Straight\n",
    "    elif flush:\n",
    "        return (3, ranks)  # Flush\n",
    "    elif 2 in counts:\n",
    "        return (2, sorted(rank_counts.items(), key=lambda x: (-x[1], -'23456789TJQKA'.index(x[0]))))  # Pair\n",
    "    else:\n",
    "        return (1, sorted(ranks, key=lambda x: '23456789TJQKA'.index(x)))  # High Card\n",
    "\n",
    "# Function to compare two hands\n",
    "def compare_hands(hand1, hand2):\n",
    "    rank1 = hand_rank(hand1)\n",
    "    rank2 = hand_rank(hand2)\n",
    "    \n",
    "    if rank1 > rank2:\n",
    "        return \"Hand 1 wins\"\n",
    "    elif rank1 < rank2:\n",
    "        return \"Hand 2 wins\"\n",
    "    else:\n",
    "        return \"Tie\"\n",
    "\n",
    "# Example hands\n",
    "hand1 = [\"5H\", \"6H\", \"7H\"]\n",
    "hand2 = [\"9C\", \"9D\", \"9S\"]\n",
    "\n",
    "# Comparing hands\n",
    "result = compare_hands(hand1, hand2)\n",
    "print(result)  # Output: Hand 2 wins\n"
   ]
  }
 ],
 "metadata": {
  "kernelspec": {
   "display_name": "base",
   "language": "python",
   "name": "python3"
  },
  "language_info": {
   "codemirror_mode": {
    "name": "ipython",
    "version": 3
   },
   "file_extension": ".py",
   "mimetype": "text/x-python",
   "name": "python",
   "nbconvert_exporter": "python",
   "pygments_lexer": "ipython3",
   "version": "3.10.9"
  }
 },
 "nbformat": 4,
 "nbformat_minor": 2
}
