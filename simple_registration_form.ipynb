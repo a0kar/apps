{
 "cells": [
  {
   "cell_type": "code",
   "execution_count": 2,
   "metadata": {},
   "outputs": [],
   "source": [
    "import tkinter as tk\n",
    "from tkinter import ttk"
   ]
  },
  {
   "cell_type": "code",
   "execution_count": 3,
   "metadata": {},
   "outputs": [],
   "source": [
    "def submit_form():\n",
    "   # Retrieve values from the form\n",
    "   first_name = entry_first_name.get()\n",
    "   last_name = entry_last_name.get()\n",
    "   email = entry_email.get()\n",
    "   contact_number = entry_contact_number.get()\n",
    "   password = entry_password.get()\n",
    "   gender = gender_var.get()\n",
    "\n",
    "\n",
    "   # Display the submitted information in blue color\n",
    "   result_label.config(text=f\"Registration Form Successfully Created!\\n\"\n",
    "                             f\"First Name: {first_name}\\n\"\n",
    "                             f\"Last Name: {last_name}\\n\"\n",
    "                             f\"Email: {email}\\n\"\n",
    "                             f\"Contact Number: {contact_number}\\n\"\n",
    "                             f\"Password: {password}\\n\"\n",
    "                             f\"Gender: {gender}\", foreground=\"blue\")"
   ]
  },
  {
   "cell_type": "code",
   "execution_count": 4,
   "metadata": {},
   "outputs": [],
   "source": [
    "root = tk.Tk()\n",
    "root.title(\"Flood-Registration Form\")\n",
    "root.geometry(\"400x400\")\n",
    "root.configure(bg=\"lightgreen\")"
   ]
  },
  {
   "cell_type": "code",
   "execution_count": 5,
   "metadata": {},
   "outputs": [],
   "source": [
    "# Create labels\n",
    "label_first_name = ttk.Label(root, text=\"First Name:\", foreground=\"purple\")\n",
    "label_last_name = ttk.Label(root, text=\"Last Name:\", foreground=\"purple\")\n",
    "label_email = ttk.Label(root, text=\"Email:\", foreground=\"purple\")\n",
    "label_contact_number = ttk.Label(root, text=\"Contact Number:\", foreground=\"purple\")\n",
    "label_password = ttk.Label(root, text=\"Password:\", foreground=\"purple\")\n",
    "label_gender = ttk.Label(root, text=\"Gender:\", foreground=\"purple\")\n",
    "\n",
    "\n",
    "# Create entry widgets\n",
    "entry_first_name = ttk.Entry(root)\n",
    "entry_last_name = ttk.Entry(root)\n",
    "entry_email = ttk.Entry(root)\n",
    "entry_contact_number = ttk.Entry(root)\n",
    "entry_password = ttk.Entry(root, show=\"*\")\n",
    "\n",
    "# Create a Combobox for gender\n",
    "gender_var = tk.StringVar()\n",
    "gender_combobox = ttk.Combobox(root, textvariable=gender_var, values=[\"Male\", \"Female\"], state=\"readonly\")\n",
    "gender_combobox.set(\"Male\")  # Default value\n",
    "\n",
    "# Create submit button\n",
    "submit_button = ttk.Button(root, text=\"Submit\", command=submit_form, style=\"TButton\")\n",
    "\n",
    "# Create label for displaying the result\n",
    "result_label = ttk.Label(root, text=\"\", foreground=\"blue\")"
   ]
  },
  {
   "cell_type": "code",
   "execution_count": 6,
   "metadata": {},
   "outputs": [],
   "source": [
    "# Place widgets on the grid\n",
    "label_first_name.grid(row=0, column=0, padx=10, pady=5, sticky=\"w\")\n",
    "label_last_name.grid(row=1, column=0, padx=10, pady=5, sticky=\"w\")\n",
    "label_email.grid(row=2, column=0, padx=10, pady=5, sticky=\"w\")\n",
    "label_contact_number.grid(row=3, column=0, padx=10, pady=5, sticky=\"w\")\n",
    "label_password.grid(row=4, column=0, padx=10, pady=5, sticky=\"w\")\n",
    "label_gender.grid(row=5, column=0, padx=10, pady=5, sticky=\"w\")\n",
    "\n",
    "\n",
    "entry_first_name.grid(row=0, column=1, padx=10, pady=5, sticky=\"w\")\n",
    "entry_last_name.grid(row=1, column=1, padx=10, pady=5, sticky=\"w\")\n",
    "entry_email.grid(row=2, column=1, padx=10, pady=5, sticky=\"w\")\n",
    "entry_contact_number.grid(row=3, column=1, padx=10, pady=5, sticky=\"w\")\n",
    "entry_password.grid(row=4, column=1, padx=10, pady=5, sticky=\"w\")\n",
    "gender_combobox.grid(row=5, column=1, padx=10, pady=5, sticky=\"w\")\n",
    "\n",
    "\n",
    "submit_button.grid(row=6, column=0, columnspan=2, pady=10)\n",
    "result_label.grid(row=7, column=0, columnspan=2, pady=10)"
   ]
  },
  {
   "cell_type": "code",
   "execution_count": 7,
   "metadata": {},
   "outputs": [],
   "source": [
    "# Configure style for the submit button\n",
    "style = ttk.Style()\n",
    "style.configure(\"TButton\", foreground=\"red\")"
   ]
  },
  {
   "cell_type": "code",
   "execution_count": 8,
   "metadata": {},
   "outputs": [],
   "source": [
    "# Run the Tkinter main loop\n",
    "root.mainloop()"
   ]
  },
  {
   "cell_type": "code",
   "execution_count": null,
   "metadata": {},
   "outputs": [],
   "source": []
  }
 ],
 "metadata": {
  "kernelspec": {
   "display_name": "base",
   "language": "python",
   "name": "python3"
  },
  "language_info": {
   "codemirror_mode": {
    "name": "ipython",
    "version": 3
   },
   "file_extension": ".py",
   "mimetype": "text/x-python",
   "name": "python",
   "nbconvert_exporter": "python",
   "pygments_lexer": "ipython3",
   "version": "3.10.9"
  }
 },
 "nbformat": 4,
 "nbformat_minor": 2
}
