{
 "cells": [
  {
   "cell_type": "code",
   "execution_count": 2,
   "metadata": {},
   "outputs": [
    {
     "name": "stdout",
     "output_type": "stream",
     "text": [
      "Moved: file_name to Documents folder.\n",
      "Moved: file_name to Documents folder.\n",
      "Skipping: Anaconda Navigator.lnk.Unknown file extension.\n",
      "Moved: file_name to Documents folder.\n",
      "Skipping: BB_wdrażanie.It is a directory.\n",
      "Moved: file_name to Documents folder.\n",
      "Skipping: BR_wdrażanie.It is a directory.\n",
      "Skipping: desktop.ini.Unknown file extension.\n",
      "Skipping: HELP_DESK.url.Unknown file extension.\n",
      "Skipping: Images.It is a directory.\n",
      "Moved: file_name to Documents folder.\n",
      "Skipping: Instrukcja przeprowadzania kwartalnych przeglądów ryzyk w ARP S.A._2024.docx.Unknown file extension.\n",
      "Skipping: Instrukcja tworzenia dokumentacji technicznej - uwagi.docx.Unknown file extension.\n",
      "Skipping: interview.tar.It is a directory.\n",
      "Skipping: Kurs Budżetowy 4.knar.Unknown file extension.\n",
      "Moved: file_name to Documents folder.\n",
      "Skipping: Microsoft Teams classic.lnk.Unknown file extension.\n",
      "Moved: file_name to Documents folder.\n",
      "Moved: file_name to Documents folder.\n",
      "Skipping: Power BI Desktop.lnk.Unknown file extension.\n",
      "Skipping: pytania_rekrutacyjne.docx.Unknown file extension.\n",
      "Skipping: RDP.rdp.Unknown file extension.\n",
      "Moved: file_name to Documents folder.\n",
      "Skipping: trip_advisor.ipynb.Unknown file extension.\n",
      "Skipping: Untitled-1.ipynb.Unknown file extension.\n",
      "Skipping: Visual Studio Code.lnk.Unknown file extension.\n",
      "Moved: file_name to Documents folder.\n",
      "Skipping: zadania_gielda.ipynb.Unknown file extension.\n",
      "Skipping: zadanka_c.ipynb.Unknown file extension.\n",
      "Skipping: Załącznik 1_Projekt uchwały_przegląd po IQ2024(f1407943).docx.Unknown file extension.\n",
      "Skipping: Zgloszenie_IT.msg.Unknown file extension.\n",
      "Skipping: ćwiczenia.It is a directory.\n",
      "File organization comepleted.\n"
     ]
    }
   ],
   "source": [
    "import os\n",
    "import shutil\n",
    "\n",
    "directory = os.path.join(os.path.expanduser(\"~\"), \"Desktop\")\n",
    "\n",
    "extensions = {\n",
    "    \".jpg\": \"Images\",\n",
    "    \".png\": \"Images\",\n",
    "    \".gif\": \"Images\",\n",
    "    \".mp4\": \"Videos\",\n",
    "    \".avi\": \"Videos\",\n",
    "    \".doc\": \"Documents\",\n",
    "    \".pdf\": \"Documents\",\n",
    "    \".txt\": \"Documents\",\n",
    "    \".mp3\": \"Music\",\n",
    "    \".wav\": \"Music\"\n",
    "}\n",
    "\n",
    "file_name = \"file_name\"\n",
    "\n",
    "for filename in os.listdir(directory):\n",
    "    file_path = os.path.join(directory, filename)\n",
    "\n",
    "    if os.path.isfile(file_path):\n",
    "        extension = os.path.splitext(filename)[1].lower()\n",
    "\n",
    "        if extension in extensions:\n",
    "            folder_name = extensions[extension]\n",
    "\n",
    "            folder_path = os.path.join(directory, folder_name)\n",
    "            os.makedirs(folder_path, exist_ok=True)\n",
    "\n",
    "            destination_path = os.path.join(folder_path, filename)\n",
    "            shutil.move(file_path, destination_path)\n",
    "\n",
    "            print(f\"Moved: {file_name} to {folder_name} folder.\")\n",
    "        else:\n",
    "            print(f\"Skipping: {filename}.Unknown file extension.\")\n",
    "    else:\n",
    "        print(f\"Skipping: {filename}.It is a directory.\")\n",
    "\n",
    "print(\"File organization comepleted.\")"
   ]
  }
 ],
 "metadata": {
  "kernelspec": {
   "display_name": "base",
   "language": "python",
   "name": "python3"
  },
  "language_info": {
   "codemirror_mode": {
    "name": "ipython",
    "version": 3
   },
   "file_extension": ".py",
   "mimetype": "text/x-python",
   "name": "python",
   "nbconvert_exporter": "python",
   "pygments_lexer": "ipython3",
   "version": "3.10.9"
  }
 },
 "nbformat": 4,
 "nbformat_minor": 2
}
