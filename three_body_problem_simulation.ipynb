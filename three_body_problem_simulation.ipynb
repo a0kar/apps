{
 "cells": [
  {
   "cell_type": "code",
   "execution_count": null,
   "metadata": {},
   "outputs": [],
   "source": [
    "from numpy import *\n",
    "\n",
    "t = 0.; tf = 500. # Start and end time\n",
    "h = 0.1 # Time increments\n",
    "n = 8 # Number of components for y and force function\n",
    "r1 = array([10., 0.]); v1 = array([0., -0.1]); m1 = 1. # Initial conditions for body 1\n",
    "r2 = array([-10., 0.]); v2 = array([0., 0.1]); m2 = 1. # Initial conditions for body 2\n",
    "y = concatenate((r1, r2, v1, v2))\n",
    "\n",
    "def f(t, y):\n",
    "    r = ((y[0]-y[2])**2+(y[1]-y[3]**2)**(1/2)) # Relative distance\n",
    "    return concatenate((y[4:8], \n",
    "                        m2*(y[2:4]-y[0:2])/r**3,\n",
    "                        m1*(y[0:2]-y[2:4])/r**3))"
   ]
  },
  {
   "cell_type": "code",
   "execution_count": null,
   "metadata": {},
   "outputs": [],
   "source": [
    "from vpython import *\n",
    "\n",
    "scene = canvas(x = 0, y = 0, width = 500, height = 500) # Setting up the visual canvas\n",
    "path1 = curve(color =color.blue, radius = 0.13) # Path of body 1\n",
    "path2 = curve(color = color.red, radius = 0.13) # Path of body 2\n",
    "body1 = sphere(pos=vec(r1[0],r1[1],0), color = color.blue, radius = 0.5*m1**(1/3)) # Body 1\n",
    "body2 = sphere(pos = vec(r2[0], r2[1], 0), color = color.red, radius = 0.5*m2**(1/3)) # Body 2"
   ]
  },
  {
   "cell_type": "code",
   "execution_count": null,
   "metadata": {},
   "outputs": [],
   "source": [
    "def rk4(t, h):\n",
    "    ydumb = zeros(n, float); k1 = zeros(n, float); k2 = zeros(n, float)\n",
    "    k3 = zeros(n, float);    k4 = zeros(n, float)\n",
    "    for i in range(n):\n",
    "        k[i] = h*f(t, y)[i]\n",
    "    for i in range(n):\n",
    "        ydumb[i] = y[i] + k1[i]/2.\n",
    "    k2 = h*f(t+h/2., ydumb)\n",
    "    for i in range(n):\n",
    "        ydumb[i] = y[i] + k2[i]/2.\n",
    "    k3 = h*f(t+h/2., ydumb)\n",
    "    for i in range(n):\n",
    "        ydumb[i] = y[i] + k3[i]\n",
    "    k4 = h*f(t+h, ydumb)\n",
    "    for i in range(n):\n",
    "        y[i] = y[i] + (k1[i] + 2.*(k2[i] + k3[i]) + k4[i])/6.\n",
    "    return y\n"
   ]
  },
  {
   "cell_type": "code",
   "execution_count": null,
   "metadata": {},
   "outputs": [],
   "source": [
    "while t < tf:\n",
    "    rate(200) # Loops up to 200 times per seconds\n",
    "    y = rk4(t,h) # Upadtes y according to the ODE algorithm\n",
    "    t += h\n",
    "    body1.pos = vec(y[0], y[1], 0) # Update the current positions of the bodies\n",
    "    body2.pos = vec(y[2], y[3], 0) \n",
    "    path1.append(pos = vec(y[0], y[1], 0)) # Update the paths the bodies took\n",
    "    path2.append(pos = vec(y[2], y[3], 0))"
   ]
  },
  {
   "cell_type": "code",
   "execution_count": null,
   "metadata": {},
   "outputs": [],
   "source": [
    "def f(t, y):\n",
    "    r12 = ((y[0]-y[3])**2+(y[1]-[4])**2+(y[2]-y[5]**2)**(1/2)) # Relative distance between 1 and 2\n",
    "    r23 = ((y[3]-y[6])**2+(y[4]-y[7]**2+(y[8]-y[2]**2))) # Relative distance between 2 and 3\n",
    "    r31 = ((y[6]-y[0])**2+(y[7]-y[1])**2+(y[8]-y[2])**2)**(1/2) # Relative distance between 3 and 1\n",
    "    return concatenate((y[9:18],\n",
    "                m2*(y[3:6]-y[0:3])/r12**3+m3*(y[6:9]-y[0:3])/r31**3,\n",
    "                m1*(y[0:3]-y[3:6])/r12**3+m3*(y[6:9]-y[3:6])/r23**3,\n",
    "                m1*(y[0:3]-y[6:9])/r31**3+m2*(y[3:6]-y[6:9])/r23**3))"
   ]
  },
  {
   "cell_type": "code",
   "execution_count": null,
   "metadata": {},
   "outputs": [],
   "source": [
    "from vpython import *\n",
    "from numpy import *\n",
    "\n",
    "t0 = 0.; tf = 1000. # Start and end time\n",
    "t = t0; h = 0.025\n",
    "n = 18 # Number of components for y and force function\n",
    "r1 = array([10., 0., 0.]);  v1 = array([-0.1, 0., 0.1]);   m1 = 1.\n",
    "r2 = array([-10., 0., 0.]); v2 = array([0., 0.1, -0.1]);   m2 = 1.\n",
    "r3 = array([0., 0., 5.]);   v3 = array([0.2, -0.1, 0.]);   m3 = 1.\n",
    "y = concatenate((r1,r2,r3,v1,v2,v3))\n",
    "\n",
    "scene = canvas(x=0,y=0,width = 700, height = 700)\n",
    "path1 = curve(color = color.blue, radius = 0.13)\n",
    "path2 = curve(color = color.red, radius = 0.13)\n",
    "path3 = curve(color = color.green, radius = 0.13)\n",
    "body1 = sphere(pos = vec(r1[0],r1[1],r1[2]), color = color.blue, radius = 0.5*m1**(1/3))\n",
    "body2 = sphere(pos = vec(r2[0],r2[1],r2[2]), color = color.red, radius = 0.5*m2**(1/3))\n",
    "body3 = sphere(pos = vec(r3[0],r3[1],r3[2]), color = color.green, radius = 0.5*m3**(1/3))\n",
    "\n",
    "def f(t, y): # Force function\n",
    "    r12 = ((y[0]-y[3])**2+(y[1]-y[4])**2+(y[2]-y[5])**2)**(1/2)\n",
    "    r23 = ((y[3]-y[6])**2+(y[4]-y[7])**2+(y[5]-y[8])**2)**(1/2)\n",
    "    r31 = ((y[6]-y[0])**2+(y[7]-y[1])**2+(y[8]-y[2])**2)**(1/2)\n",
    "    return concatenate((y[9:18],\n",
    "                m2*(y[3:6]-y[0:3])/r12**3+m3*(y[6:9]-y[0:3])/r31**3,\n",
    "                m1*(y[0:3]-y[3:6])/r12**3+m3*(y[6:9]-y[3:6])/r23**3,\n",
    "                m1*(y[0:3]-y[6:9])/r31**3+m2*(y[3:6]-y[6:9])/r23**3))\n",
    "\n",
    "def rk4(t, h): # Runge-Kutta algorithm\n",
    "    ydumb = zeros(n, float); k1 = zeros(n, float); k2 = zeros(n, float)\n",
    "    k3 = zeros(n, float);    k4 = zeros(n, float)\n",
    "    for i in range(n):\n",
    "        k1[i] = h*f(t,y)[i]\n",
    "    for i in range(n):\n",
    "        ydumb[i] = y[i] + k1[i]/2.\n",
    "    k2 = h*f(t+h/2., ydumb)\n",
    "    for i in range(n):\n",
    "        ydumb[i] = y[i] + k2[i]/2.\n",
    "    k3 = h*f(t+h/2., ydumb)\n",
    "    for i in range(n):\n",
    "        ydumb[i] = y[i] + k3[i]\n",
    "    k4 = h*f(t+h, ydumb)\n",
    "    for i in range(n):\n",
    "        y[i] = y[i] + (k1[i] + 2.*(k2[i] + k3[i]) + k4[i])/6.\n",
    "    return y\n",
    "\n",
    "while t < tf:\n",
    "    rate(500)\n",
    "    y = rk4(t, h)\n",
    "    t += h\n",
    "    body1.pos = vec(y[0], y[1], y[2])\n",
    "    body2.pos = vec(y[3], y[4], y[5])\n",
    "    body3.pos = vec(y[6], y[7], y[8])\n",
    "    path1.append(pos = vec(y[0], y[1], y[2]))\n",
    "    path2.append(pos = vec(y[3], y[4], y[5]))\n",
    "    path3.append(pos = vec(y[6], y[7], y[8]))\n"
   ]
  }
 ],
 "metadata": {
  "language_info": {
   "name": "python"
  }
 },
 "nbformat": 4,
 "nbformat_minor": 2
}
