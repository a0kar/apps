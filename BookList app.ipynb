{
 "cells": [
  {
   "cell_type": "code",
   "execution_count": 2,
   "metadata": {},
   "outputs": [
    {
     "name": "stdout",
     "output_type": "stream",
     "text": [
      "the <booklist.txt> file is not found\n",
      "Starting a new books list!\n",
      "*** Books Manager ***\n",
      "1) Add a book\n",
      "2) Look up a book\n",
      "3) Display books\n",
      "4) Quit\n",
      "Adding a book ...\n",
      "*** Books Manager ***\n",
      "1) Add a book\n",
      "2) Look up a book\n",
      "3) Display books\n",
      "4) Quit\n",
      "Quitting Program\n",
      "Program Terminated!\n"
     ]
    }
   ],
   "source": [
    "def main():\n",
    "\n",
    "    try:\n",
    "        # initialize books list\n",
    "        booksList = []\n",
    "        infile = open(\"theBooksList\", \"r\")\n",
    "        line = infile.readLine()\n",
    "        while line:\n",
    "            booksList.append(line.rstrip(\"\\n\").split(\",\"))\n",
    "            line = infile.readLine()\n",
    "        infile.close()\n",
    "\n",
    "    except FileNotFoundError:\n",
    "        print(\"the <booklist.txt> file is not found\")\n",
    "        print(\"Starting a new books list!\")\n",
    "        booksList = []\n",
    "\n",
    "\n",
    "    choice = 0\n",
    "    while choice !=4:\n",
    "        print(\"*** Books Manager ***\")\n",
    "        print(\"1) Add a book\")\n",
    "        print(\"2) Look up a book\")\n",
    "        print(\"3) Display books\")\n",
    "        print(\"4) Quit\")\n",
    "        choice = int(input())\n",
    "\n",
    "\n",
    "        if choice == 1:\n",
    "            print(\"Adding a book ...\")\n",
    "            nBook = input(\"Enter the name of the book >>>\")\n",
    "            nAuthor = input(\"Enter the name of the author >>>\")\n",
    "            nPages = input(\"Enter the number of pages >>>\")\n",
    "            booksList.append([nBook, nAuthor, nPages])\n",
    "\n",
    "        elif choice == 2:\n",
    "            print(\"Looking up for a book...\")\n",
    "            keyword = input(\"Enter Search Term: \")\n",
    "            for book in booksList:\n",
    "                if keyword in book:\n",
    "                    print(book)\n",
    "        \n",
    "        elif choice == 3:\n",
    "            print(\"Display all books...\")\n",
    "            for i in range(len(booksList)):\n",
    "                print(booksList[i])\n",
    "\n",
    "        elif choice == 4:\n",
    "            print(\"Quitting Program\")\n",
    "    print(\"Program Terminated!\")\n",
    "\n",
    "    # Saving to external TXT file\n",
    "    outfile = open(\"theBookList.txt\", \"w\")\n",
    "    for book in booksList:\n",
    "        outfile.write(\",\".join(book) + \"\\n\")\n",
    "    outfile.close()\n",
    "\n",
    "\n",
    "if __name__ == \"__main__\":\n",
    "    main()"
   ]
  }
 ],
 "metadata": {
  "kernelspec": {
   "display_name": "base",
   "language": "python",
   "name": "python3"
  },
  "language_info": {
   "codemirror_mode": {
    "name": "ipython",
    "version": 3
   },
   "file_extension": ".py",
   "mimetype": "text/x-python",
   "name": "python",
   "nbconvert_exporter": "python",
   "pygments_lexer": "ipython3",
   "version": "3.10.9"
  }
 },
 "nbformat": 4,
 "nbformat_minor": 2
}
